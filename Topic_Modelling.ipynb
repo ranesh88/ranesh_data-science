{
  "nbformat": 4,
  "nbformat_minor": 0,
  "metadata": {
    "kernelspec": {
      "display_name": "Python 3",
      "language": "python",
      "name": "python3"
    },
    "language_info": {
      "codemirror_mode": {
        "name": "ipython",
        "version": 3
      },
      "file_extension": ".py",
      "mimetype": "text/x-python",
      "name": "python",
      "nbconvert_exporter": "python",
      "pygments_lexer": "ipython3",
      "version": "3.7.4"
    },
    "colab": {
      "name": "Topic Modelling.ipynb",
      "provenance": [],
      "include_colab_link": true
    }
  },
  "cells": [
    {
      "cell_type": "markdown",
      "metadata": {
        "id": "view-in-github",
        "colab_type": "text"
      },
      "source": [
        "<a href=\"https://colab.research.google.com/github/ranesh88/ranesh_data-science/blob/master/Topic_Modelling.ipynb\" target=\"_parent\"><img src=\"https://colab.research.google.com/assets/colab-badge.svg\" alt=\"Open In Colab\"/></a>"
      ]
    },
    {
      "cell_type": "code",
      "metadata": {
        "id": "yq_oolhDB6h9"
      },
      "source": [
        "import pandas as pd\n",
        "from nltk.tokenize import word_tokenize\n",
        "from nltk.corpus import stopwords\n",
        "from string import punctuation\n",
        "from wordcloud import WordCloud\n",
        "\n",
        "import matplotlib.pyplot as plt\n",
        "import operator"
      ],
      "execution_count": null,
      "outputs": []
    },
    {
      "cell_type": "code",
      "metadata": {
        "id": "aEWj5CdGB6h-"
      },
      "source": [
        "stop = stopwords.words('english')\n",
        "punkt = list(punctuation)\n",
        "bad_tokens = stop + punkt"
      ],
      "execution_count": null,
      "outputs": []
    },
    {
      "cell_type": "code",
      "metadata": {
        "id": "LSoQOVkrB6h-"
      },
      "source": [
        "def clean_text(text):\n",
        "    \n",
        "    text = text.lower()\n",
        "    tokens = word_tokenize(text)\n",
        "    word_tokens = [t for t in tokens if t.isalpha()]\n",
        "    final_tokens = [t for t in word_tokens if t not in bad_tokens]\n",
        "    return \" \".join(final_tokens)"
      ],
      "execution_count": null,
      "outputs": []
    },
    {
      "cell_type": "code",
      "metadata": {
        "id": "S2XcobGKB6h-"
      },
      "source": [
        "text = '''\n",
        "I would like to request the suppression of the following items \n",
        "from my credit report, which are the result of my falling victim to \n",
        "identity theft. This information does not relate to \n",
        "[ transactions that I have made/accounts that I have opened ], \n",
        "as the attached supporting documentation can attest. \n",
        "As such, it should be blocked from appearing on my credit \n",
        "report pursuant to section 605B of the Fair Credit Reporting Act.\n",
        "\n",
        "'''"
      ],
      "execution_count": null,
      "outputs": []
    },
    {
      "cell_type": "code",
      "metadata": {
        "id": "pCGgUlARB6h-"
      },
      "source": [
        "clean_text = clean_text(text)"
      ],
      "execution_count": null,
      "outputs": []
    },
    {
      "cell_type": "code",
      "metadata": {
        "id": "ebFvek8lB6h_",
        "outputId": "4e56d2e3-d251-47b5-b7ff-8efd8905268f"
      },
      "source": [
        "clean_text"
      ],
      "execution_count": null,
      "outputs": [
        {
          "output_type": "execute_result",
          "data": {
            "text/plain": [
              "'would like request suppression following items credit report result falling victim identity theft information relate transactions opened attached supporting documentation attest blocked appearing credit report pursuant section fair credit reporting act'"
            ]
          },
          "metadata": {
            "tags": []
          },
          "execution_count": 6
        }
      ]
    },
    {
      "cell_type": "code",
      "metadata": {
        "id": "PpzrAdTbB6iB"
      },
      "source": [
        "from collections import Counter"
      ],
      "execution_count": null,
      "outputs": []
    },
    {
      "cell_type": "code",
      "metadata": {
        "id": "jqG9CvrHB6iB"
      },
      "source": [
        "word_count = dict(Counter(clean_text.split()))"
      ],
      "execution_count": null,
      "outputs": []
    },
    {
      "cell_type": "code",
      "metadata": {
        "id": "-AZaiNKhB6iC",
        "outputId": "d7311301-a7c6-4cb8-aa7b-a6c3d24d2c13"
      },
      "source": [
        "word_count"
      ],
      "execution_count": null,
      "outputs": [
        {
          "output_type": "execute_result",
          "data": {
            "text/plain": [
              "{'would': 1,\n",
              " 'like': 1,\n",
              " 'request': 1,\n",
              " 'suppression': 1,\n",
              " 'following': 1,\n",
              " 'items': 1,\n",
              " 'credit': 3,\n",
              " 'report': 2,\n",
              " 'result': 1,\n",
              " 'falling': 1,\n",
              " 'victim': 1,\n",
              " 'identity': 1,\n",
              " 'theft': 1,\n",
              " 'information': 1,\n",
              " 'relate': 1,\n",
              " 'transactions': 1,\n",
              " 'opened': 1,\n",
              " 'attached': 1,\n",
              " 'supporting': 1,\n",
              " 'documentation': 1,\n",
              " 'attest': 1,\n",
              " 'blocked': 1,\n",
              " 'appearing': 1,\n",
              " 'pursuant': 1,\n",
              " 'section': 1,\n",
              " 'fair': 1,\n",
              " 'reporting': 1,\n",
              " 'act': 1}"
            ]
          },
          "metadata": {
            "tags": []
          },
          "execution_count": 9
        }
      ]
    },
    {
      "cell_type": "code",
      "metadata": {
        "scrolled": true,
        "id": "o0YxTql4B6iC"
      },
      "source": [
        "word_count_sorted = sorted(word_count.items(), key=operator.itemgetter(1), reverse=True)"
      ],
      "execution_count": null,
      "outputs": []
    },
    {
      "cell_type": "code",
      "metadata": {
        "id": "DZ8_pbgBB6iC"
      },
      "source": [
        "top_words = word_count_sorted[:10]"
      ],
      "execution_count": null,
      "outputs": []
    },
    {
      "cell_type": "code",
      "metadata": {
        "id": "MiwHcePWB6iC",
        "outputId": "532cf7cc-244e-4da1-ea56-47ca70523139"
      },
      "source": [
        "top_words"
      ],
      "execution_count": null,
      "outputs": [
        {
          "output_type": "execute_result",
          "data": {
            "text/plain": [
              "[('credit', 3),\n",
              " ('report', 2),\n",
              " ('would', 1),\n",
              " ('like', 1),\n",
              " ('request', 1),\n",
              " ('suppression', 1),\n",
              " ('following', 1),\n",
              " ('items', 1),\n",
              " ('result', 1),\n",
              " ('falling', 1)]"
            ]
          },
          "metadata": {
            "tags": []
          },
          "execution_count": 12
        }
      ]
    },
    {
      "cell_type": "code",
      "metadata": {
        "id": "FN46XnOYB6iC"
      },
      "source": [
        "# credit, report, would, like, request, suppression"
      ],
      "execution_count": null,
      "outputs": []
    },
    {
      "cell_type": "markdown",
      "metadata": {
        "id": "T2iOPkCUB6iC"
      },
      "source": [
        "## POS tagging"
      ]
    },
    {
      "cell_type": "code",
      "metadata": {
        "id": "LOMobFpJB6iD"
      },
      "source": [
        "#import nltk\n",
        "#nltk.download(\"averaged_perceptron_tagger\")"
      ],
      "execution_count": null,
      "outputs": []
    },
    {
      "cell_type": "code",
      "metadata": {
        "id": "4Xf87T3zB6iD"
      },
      "source": [
        "from textblob import TextBlob"
      ],
      "execution_count": null,
      "outputs": []
    },
    {
      "cell_type": "code",
      "metadata": {
        "id": "b8dQxfrSB6iD"
      },
      "source": [
        "blob = TextBlob(clean_text)"
      ],
      "execution_count": null,
      "outputs": []
    },
    {
      "cell_type": "code",
      "metadata": {
        "id": "nZDtGot9B6iD"
      },
      "source": [
        "text_pos = blob.tags"
      ],
      "execution_count": null,
      "outputs": []
    },
    {
      "cell_type": "code",
      "metadata": {
        "id": "M2AD_O-_B6iD",
        "outputId": "354ae296-c9fc-4d53-df9e-84e1bb0c2f88"
      },
      "source": [
        "text_pos"
      ],
      "execution_count": null,
      "outputs": [
        {
          "output_type": "execute_result",
          "data": {
            "text/plain": [
              "[('would', 'MD'),\n",
              " ('like', 'VB'),\n",
              " ('request', 'JJS'),\n",
              " ('suppression', 'NN'),\n",
              " ('following', 'VBG'),\n",
              " ('items', 'NNS'),\n",
              " ('credit', 'NN'),\n",
              " ('report', 'NN'),\n",
              " ('result', 'NN'),\n",
              " ('falling', 'VBG'),\n",
              " ('victim', 'NN'),\n",
              " ('identity', 'NN'),\n",
              " ('theft', 'NN'),\n",
              " ('information', 'NN'),\n",
              " ('relate', 'NN'),\n",
              " ('transactions', 'NNS'),\n",
              " ('opened', 'VBD'),\n",
              " ('attached', 'RP'),\n",
              " ('supporting', 'VBG'),\n",
              " ('documentation', 'NN'),\n",
              " ('attest', 'NN'),\n",
              " ('blocked', 'VBD'),\n",
              " ('appearing', 'VBG'),\n",
              " ('credit', 'NN'),\n",
              " ('report', 'NN'),\n",
              " ('pursuant', 'JJ'),\n",
              " ('section', 'NN'),\n",
              " ('fair', 'NN'),\n",
              " ('credit', 'NN'),\n",
              " ('reporting', 'NN'),\n",
              " ('act', 'NN')]"
            ]
          },
          "metadata": {
            "tags": []
          },
          "execution_count": 18
        }
      ]
    },
    {
      "cell_type": "code",
      "metadata": {
        "id": "JOrh_S1mB6iD"
      },
      "source": [
        "nouns = []\n",
        "for item in text_pos:\n",
        "    if item[1] == \"NN\" or item[1] == \"NNS\" or item[1] == \"NNP\":\n",
        "        nouns.append(item[0])"
      ],
      "execution_count": null,
      "outputs": []
    },
    {
      "cell_type": "code",
      "metadata": {
        "id": "uLF27n1DB6iD",
        "outputId": "cc6dedc5-3bf8-4c54-924c-d77542c34074"
      },
      "source": [
        "nouns"
      ],
      "execution_count": null,
      "outputs": [
        {
          "output_type": "execute_result",
          "data": {
            "text/plain": [
              "['suppression',\n",
              " 'items',\n",
              " 'credit',\n",
              " 'report',\n",
              " 'result',\n",
              " 'victim',\n",
              " 'identity',\n",
              " 'theft',\n",
              " 'information',\n",
              " 'relate',\n",
              " 'transactions',\n",
              " 'documentation',\n",
              " 'attest',\n",
              " 'credit',\n",
              " 'report',\n",
              " 'section',\n",
              " 'fair',\n",
              " 'credit',\n",
              " 'reporting',\n",
              " 'act']"
            ]
          },
          "metadata": {
            "tags": []
          },
          "execution_count": 20
        }
      ]
    },
    {
      "cell_type": "markdown",
      "metadata": {
        "id": "0p0h5FbqB6iD"
      },
      "source": [
        "\n",
        "\n",
        "\n",
        "<p>CC coordinating conjunction</p>\n",
        "<p>CD cardinal digit</p>\n",
        "<p>DT determiner</p>\n",
        "<p>EX existential there (like: “there is” … think of it like “there exists”)</p>\n",
        "<p>FW foreign word</p>\n",
        "<p>IN preposition/subordinating conjunction</p>\n",
        "<p>JJ adjective ‘big’</p>\n",
        "<p>JJR adjective, comparative ‘bigger’</p>\n",
        "<p>JJS adjective, superlative ‘biggest’</p>\n",
        "<p>LS list marker 1)</p>\n",
        "<p>MD modal could, will</p>\n",
        "<p>NN noun, singular ‘desk’</p>\n",
        "<p>NNS noun plural ‘desks’</p>\n",
        "<p>NNP proper noun, singular ‘Harrison’</p>\n",
        "<p>NNPS proper noun, plural ‘Americans’</p>\n",
        "<p>PDT predeterminer ‘all the kids’</p>\n",
        "<p>POS possessive ending parent‘s</p>\n",
        "<p>PRP personal pronoun I, he, she</p>\n",
        "<p>PRP possessive pronoun my, his, hers</p>\n",
        "<p>RB adverb very, silently,</p>\n",
        "<p>RBR adverb, comparative better</p>\n",
        "<p>RBS adverb, superlative best</p>\n",
        "<p>RP particle give up</p>\n",
        "<p>TO to go ‘to‘ the store.</p>\n",
        "<p>UH interjection errrrrrrrm</p>\n",
        "<p>VB verb, base form take</p>\n",
        "<p>VBD verb, past tense took</p>\n",
        "<p>VBG verb, gerund/present participle taking</p>\n",
        "<p>VBN verb, past participle taken</p>\n",
        "<p>VBP verb, sing. present, non-3d take</p>\n",
        "<p>VBZ verb, 3rd person sing. present takes</p>\n",
        "<p>WDT wh-determiner which</p>\n",
        "<p>WP wh-pronoun who, what</p>\n",
        "<p>WP$ possessive wh-pronoun whose</p>\n",
        "<p>WRB wh-abverb where, when</p>"
      ]
    },
    {
      "cell_type": "code",
      "metadata": {
        "id": "9Ewx0F70B6iE"
      },
      "source": [
        ""
      ],
      "execution_count": null,
      "outputs": []
    }
  ]
}