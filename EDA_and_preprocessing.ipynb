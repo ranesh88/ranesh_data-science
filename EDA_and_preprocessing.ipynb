{
  "nbformat": 4,
  "nbformat_minor": 0,
  "metadata": {
    "kernelspec": {
      "display_name": "Python 3",
      "language": "python",
      "name": "python3"
    },
    "language_info": {
      "codemirror_mode": {
        "name": "ipython",
        "version": 3
      },
      "file_extension": ".py",
      "mimetype": "text/x-python",
      "name": "python",
      "nbconvert_exporter": "python",
      "pygments_lexer": "ipython3",
      "version": "3.7.4"
    },
    "colab": {
      "name": "EDA and preprocessing.ipynb",
      "provenance": [],
      "include_colab_link": true
    }
  },
  "cells": [
    {
      "cell_type": "markdown",
      "metadata": {
        "id": "view-in-github",
        "colab_type": "text"
      },
      "source": [
        "<a href=\"https://colab.research.google.com/github/ranesh88/ranesh_data-science/blob/master/EDA_and_preprocessing.ipynb\" target=\"_parent\"><img src=\"https://colab.research.google.com/assets/colab-badge.svg\" alt=\"Open In Colab\"/></a>"
      ]
    },
    {
      "cell_type": "code",
      "metadata": {
        "id": "dHMS6_0AXOvz"
      },
      "source": [
        "import warnings\n",
        "warnings.filterwarnings('ignore')"
      ],
      "execution_count": null,
      "outputs": []
    },
    {
      "cell_type": "code",
      "metadata": {
        "id": "rz3hbb4eXOzE"
      },
      "source": [
        "\n",
        "import numpy as np\n",
        "import pandas as pd\n",
        "import matplotlib.pyplot as plt\n",
        "import seaborn as sns"
      ],
      "execution_count": null,
      "outputs": []
    },
    {
      "cell_type": "code",
      "metadata": {
        "id": "9U6oUQk4XOzG"
      },
      "source": [
        "df = pd.read_csv('cars.csv')"
      ],
      "execution_count": null,
      "outputs": []
    },
    {
      "cell_type": "code",
      "metadata": {
        "id": "QUCPmYZyXOzI",
        "outputId": "c495c3ad-c881-4f19-8fd4-da28c9b004f3"
      },
      "source": [
        "df.head()"
      ],
      "execution_count": null,
      "outputs": [
        {
          "output_type": "execute_result",
          "data": {
            "text/html": [
              "<div>\n",
              "<style scoped>\n",
              "    .dataframe tbody tr th:only-of-type {\n",
              "        vertical-align: middle;\n",
              "    }\n",
              "\n",
              "    .dataframe tbody tr th {\n",
              "        vertical-align: top;\n",
              "    }\n",
              "\n",
              "    .dataframe thead th {\n",
              "        text-align: right;\n",
              "    }\n",
              "</style>\n",
              "<table border=\"1\" class=\"dataframe\">\n",
              "  <thead>\n",
              "    <tr style=\"text-align: right;\">\n",
              "      <th></th>\n",
              "      <th>symboling</th>\n",
              "      <th>normalized-losses</th>\n",
              "      <th>make</th>\n",
              "      <th>fuel-type</th>\n",
              "      <th>body-style</th>\n",
              "      <th>drive-wheels</th>\n",
              "      <th>engine-location</th>\n",
              "      <th>width</th>\n",
              "      <th>height</th>\n",
              "      <th>engine-type</th>\n",
              "      <th>engine-size</th>\n",
              "      <th>horsepower</th>\n",
              "      <th>city-mpg</th>\n",
              "      <th>highway-mpg</th>\n",
              "      <th>price</th>\n",
              "    </tr>\n",
              "  </thead>\n",
              "  <tbody>\n",
              "    <tr>\n",
              "      <th>0</th>\n",
              "      <td>3</td>\n",
              "      <td>?</td>\n",
              "      <td>alfa-romero</td>\n",
              "      <td>gas</td>\n",
              "      <td>convertible</td>\n",
              "      <td>rwd</td>\n",
              "      <td>front</td>\n",
              "      <td>64.1</td>\n",
              "      <td>48.8</td>\n",
              "      <td>dohc</td>\n",
              "      <td>130</td>\n",
              "      <td>111</td>\n",
              "      <td>21</td>\n",
              "      <td>27</td>\n",
              "      <td>13495</td>\n",
              "    </tr>\n",
              "    <tr>\n",
              "      <th>1</th>\n",
              "      <td>3</td>\n",
              "      <td>?</td>\n",
              "      <td>alfa-romero</td>\n",
              "      <td>gas</td>\n",
              "      <td>convertible</td>\n",
              "      <td>rwd</td>\n",
              "      <td>front</td>\n",
              "      <td>64.1</td>\n",
              "      <td>48.8</td>\n",
              "      <td>dohc</td>\n",
              "      <td>130</td>\n",
              "      <td>111</td>\n",
              "      <td>21</td>\n",
              "      <td>27</td>\n",
              "      <td>16500</td>\n",
              "    </tr>\n",
              "    <tr>\n",
              "      <th>2</th>\n",
              "      <td>1</td>\n",
              "      <td>?</td>\n",
              "      <td>alfa-romero</td>\n",
              "      <td>gas</td>\n",
              "      <td>hatchback</td>\n",
              "      <td>rwd</td>\n",
              "      <td>front</td>\n",
              "      <td>65.5</td>\n",
              "      <td>52.4</td>\n",
              "      <td>ohcv</td>\n",
              "      <td>152</td>\n",
              "      <td>154</td>\n",
              "      <td>19</td>\n",
              "      <td>26</td>\n",
              "      <td>16500</td>\n",
              "    </tr>\n",
              "    <tr>\n",
              "      <th>3</th>\n",
              "      <td>2</td>\n",
              "      <td>164</td>\n",
              "      <td>audi</td>\n",
              "      <td>gas</td>\n",
              "      <td>sedan</td>\n",
              "      <td>fwd</td>\n",
              "      <td>front</td>\n",
              "      <td>66.2</td>\n",
              "      <td>54.3</td>\n",
              "      <td>ohc</td>\n",
              "      <td>109</td>\n",
              "      <td>102</td>\n",
              "      <td>24</td>\n",
              "      <td>30</td>\n",
              "      <td>13950</td>\n",
              "    </tr>\n",
              "    <tr>\n",
              "      <th>4</th>\n",
              "      <td>2</td>\n",
              "      <td>164</td>\n",
              "      <td>audi</td>\n",
              "      <td>gas</td>\n",
              "      <td>sedan</td>\n",
              "      <td>4wd</td>\n",
              "      <td>front</td>\n",
              "      <td>66.4</td>\n",
              "      <td>54.3</td>\n",
              "      <td>ohc</td>\n",
              "      <td>136</td>\n",
              "      <td>115</td>\n",
              "      <td>18</td>\n",
              "      <td>22</td>\n",
              "      <td>17450</td>\n",
              "    </tr>\n",
              "  </tbody>\n",
              "</table>\n",
              "</div>"
            ],
            "text/plain": [
              "   symboling normalized-losses         make fuel-type   body-style  \\\n",
              "0          3                 ?  alfa-romero       gas  convertible   \n",
              "1          3                 ?  alfa-romero       gas  convertible   \n",
              "2          1                 ?  alfa-romero       gas    hatchback   \n",
              "3          2               164         audi       gas        sedan   \n",
              "4          2               164         audi       gas        sedan   \n",
              "\n",
              "  drive-wheels engine-location  width  height engine-type  engine-size  \\\n",
              "0          rwd           front   64.1    48.8        dohc          130   \n",
              "1          rwd           front   64.1    48.8        dohc          130   \n",
              "2          rwd           front   65.5    52.4        ohcv          152   \n",
              "3          fwd           front   66.2    54.3         ohc          109   \n",
              "4          4wd           front   66.4    54.3         ohc          136   \n",
              "\n",
              "  horsepower  city-mpg  highway-mpg  price  \n",
              "0        111        21           27  13495  \n",
              "1        111        21           27  16500  \n",
              "2        154        19           26  16500  \n",
              "3        102        24           30  13950  \n",
              "4        115        18           22  17450  "
            ]
          },
          "metadata": {
            "tags": []
          },
          "execution_count": 4
        }
      ]
    },
    {
      "cell_type": "code",
      "metadata": {
        "id": "ycWPUB_uXOzQ",
        "outputId": "218a28da-4af2-4cc9-dcdc-253ae5c35b85"
      },
      "source": [
        "df.info()"
      ],
      "execution_count": null,
      "outputs": [
        {
          "output_type": "stream",
          "text": [
            "<class 'pandas.core.frame.DataFrame'>\n",
            "RangeIndex: 205 entries, 0 to 204\n",
            "Data columns (total 15 columns):\n",
            " #   Column             Non-Null Count  Dtype  \n",
            "---  ------             --------------  -----  \n",
            " 0   symboling          205 non-null    int64  \n",
            " 1   normalized-losses  205 non-null    object \n",
            " 2   make               205 non-null    object \n",
            " 3   fuel-type          205 non-null    object \n",
            " 4   body-style         205 non-null    object \n",
            " 5   drive-wheels       205 non-null    object \n",
            " 6   engine-location    205 non-null    object \n",
            " 7   width              205 non-null    float64\n",
            " 8   height             205 non-null    float64\n",
            " 9   engine-type        205 non-null    object \n",
            " 10  engine-size        205 non-null    int64  \n",
            " 11  horsepower         205 non-null    object \n",
            " 12  city-mpg           205 non-null    int64  \n",
            " 13  highway-mpg        205 non-null    int64  \n",
            " 14  price              205 non-null    int64  \n",
            "dtypes: float64(2), int64(5), object(8)\n",
            "memory usage: 24.1+ KB\n"
          ],
          "name": "stdout"
        }
      ]
    },
    {
      "cell_type": "code",
      "metadata": {
        "id": "fdLWArg9XOzT",
        "outputId": "ba0dfcfd-f357-4d9e-f7b0-d9b7d3921715"
      },
      "source": [
        "df['normalized-losses'].unique()"
      ],
      "execution_count": null,
      "outputs": [
        {
          "output_type": "execute_result",
          "data": {
            "text/plain": [
              "array(['?', '164', '158', '192', '188', '121', '98', '81', '118', '148',\n",
              "       '110', '145', '137', '101', '78', '106', '85', '107', '104', '113',\n",
              "       '150', '129', '115', '93', '142', '161', '153', '125', '128',\n",
              "       '122', '103', '168', '108', '194', '231', '119', '154', '74',\n",
              "       '186', '83', '102', '89', '87', '77', '91', '134', '65', '197',\n",
              "       '90', '94', '256', '95'], dtype=object)"
            ]
          },
          "metadata": {
            "tags": []
          },
          "execution_count": 6
        }
      ]
    },
    {
      "cell_type": "code",
      "metadata": {
        "id": "dnHpe0PHXOzV",
        "outputId": "dafbe4af-540f-4244-c05e-9dab0ac6f13a"
      },
      "source": [
        "df['make'].value_counts()"
      ],
      "execution_count": null,
      "outputs": [
        {
          "output_type": "execute_result",
          "data": {
            "text/plain": [
              "toyota           32\n",
              "nissan           18\n",
              "mazda            17\n",
              "honda            13\n",
              "mitsubishi       13\n",
              "subaru           12\n",
              "volkswagen       12\n",
              "peugot           11\n",
              "volvo            11\n",
              "dodge             9\n",
              "mercedes-benz     8\n",
              "bmw               8\n",
              "plymouth          7\n",
              "audi              7\n",
              "saab              6\n",
              "porsche           5\n",
              "isuzu             4\n",
              "chevrolet         3\n",
              "jaguar            3\n",
              "alfa-romero       3\n",
              "renault           2\n",
              "mercury           1\n",
              "Name: make, dtype: int64"
            ]
          },
          "metadata": {
            "tags": []
          },
          "execution_count": 7
        }
      ]
    },
    {
      "cell_type": "code",
      "metadata": {
        "id": "Z1reFhwBXOza",
        "outputId": "af0b6859-8e9b-40e8-ba57-5f2d591073fe"
      },
      "source": [
        "# Null values - missing value\n",
        "df.isnull().sum()"
      ],
      "execution_count": null,
      "outputs": [
        {
          "output_type": "execute_result",
          "data": {
            "text/plain": [
              "symboling            0\n",
              "normalized-losses    0\n",
              "make                 0\n",
              "fuel-type            0\n",
              "body-style           0\n",
              "drive-wheels         0\n",
              "engine-location      0\n",
              "width                0\n",
              "height               0\n",
              "engine-type          0\n",
              "engine-size          0\n",
              "horsepower           0\n",
              "city-mpg             0\n",
              "highway-mpg          0\n",
              "price                0\n",
              "dtype: int64"
            ]
          },
          "metadata": {
            "tags": []
          },
          "execution_count": 8
        }
      ]
    },
    {
      "cell_type": "code",
      "metadata": {
        "id": "41AVPLA5XOzc",
        "outputId": "fa39eecd-cbb7-4811-bff2-ebdad1bc10e5"
      },
      "source": [
        "df['horsepower'].unique()"
      ],
      "execution_count": null,
      "outputs": [
        {
          "output_type": "execute_result",
          "data": {
            "text/plain": [
              "array(['111', '154', '102', '115', '110', '140', '160', '101', '121',\n",
              "       '182', '48', '70', '68', '88', '145', '58', '76', '60', '86',\n",
              "       '100', '78', '90', '176', '262', '135', '84', '64', '120', '72',\n",
              "       '123', '155', '184', '175', '116', '69', '55', '97', '152', '200',\n",
              "       '95', '142', '143', '207', '288', '?', '73', '82', '94', '62',\n",
              "       '56', '112', '92', '161', '156', '52', '85', '114', '162', '134',\n",
              "       '106'], dtype=object)"
            ]
          },
          "metadata": {
            "tags": []
          },
          "execution_count": 9
        }
      ]
    },
    {
      "cell_type": "code",
      "metadata": {
        "id": "GRd4zDRmXOze",
        "outputId": "ee3b8efc-fcfc-4440-e657-d7c6b556c229"
      },
      "source": [
        "df['height'].unique()"
      ],
      "execution_count": null,
      "outputs": [
        {
          "output_type": "execute_result",
          "data": {
            "text/plain": [
              "array([48.8, 52.4, 54.3, 53.1, 55.7, 55.9, 52. , 53.7, 56.3, 53.2, 50.8,\n",
              "       50.6, 59.8, 50.2, 52.6, 54.5, 58.3, 53.3, 54.1, 51. , 53.5, 51.4,\n",
              "       52.8, 47.8, 49.6, 55.5, 54.4, 56.5, 58.7, 54.9, 56.7, 55.4, 54.8,\n",
              "       49.4, 51.6, 54.7, 55.1, 56.1, 49.7, 56. , 50.5, 55.2, 52.5, 53. ,\n",
              "       59.1, 53.9, 55.6, 56.2, 57.5])"
            ]
          },
          "metadata": {
            "tags": []
          },
          "execution_count": 10
        }
      ]
    },
    {
      "cell_type": "code",
      "metadata": {
        "id": "xWgbry1oXOzg",
        "outputId": "6f7267a3-32ae-46c8-e3f0-e9b0d710b814"
      },
      "source": [
        "df['drive-wheels'].unique()"
      ],
      "execution_count": null,
      "outputs": [
        {
          "output_type": "execute_result",
          "data": {
            "text/plain": [
              "array(['rwd', 'fwd', '4wd'], dtype=object)"
            ]
          },
          "metadata": {
            "tags": []
          },
          "execution_count": 11
        }
      ]
    },
    {
      "cell_type": "code",
      "metadata": {
        "id": "b6fa2xSpXOzh"
      },
      "source": [
        "df['horsepower'].replace(\"?\", np.nan, inplace=True)"
      ],
      "execution_count": null,
      "outputs": []
    },
    {
      "cell_type": "code",
      "metadata": {
        "id": "O17eg1QzXOzi",
        "outputId": "3d950300-1093-4ebf-b1ea-730686f1043e"
      },
      "source": [
        "df['horsepower'].unique()"
      ],
      "execution_count": null,
      "outputs": [
        {
          "output_type": "execute_result",
          "data": {
            "text/plain": [
              "array(['111', '154', '102', '115', '110', '140', '160', '101', '121',\n",
              "       '182', '48', '70', '68', '88', '145', '58', '76', '60', '86',\n",
              "       '100', '78', '90', '176', '262', '135', '84', '64', '120', '72',\n",
              "       '123', '155', '184', '175', '116', '69', '55', '97', '152', '200',\n",
              "       '95', '142', '143', '207', '288', nan, '73', '82', '94', '62',\n",
              "       '56', '112', '92', '161', '156', '52', '85', '114', '162', '134',\n",
              "       '106'], dtype=object)"
            ]
          },
          "metadata": {
            "tags": []
          },
          "execution_count": 14
        }
      ]
    },
    {
      "cell_type": "code",
      "metadata": {
        "id": "vwW7f2dbXOzk"
      },
      "source": [
        "df['horsepower']=df['horsepower'].astype('float64')"
      ],
      "execution_count": null,
      "outputs": []
    },
    {
      "cell_type": "code",
      "metadata": {
        "id": "yr1iJksvXOzl",
        "outputId": "f0d77aa3-41d4-4a76-f179-0dfdd76c9fa2"
      },
      "source": [
        "df.info()"
      ],
      "execution_count": null,
      "outputs": [
        {
          "output_type": "stream",
          "text": [
            "<class 'pandas.core.frame.DataFrame'>\n",
            "RangeIndex: 205 entries, 0 to 204\n",
            "Data columns (total 15 columns):\n",
            " #   Column             Non-Null Count  Dtype  \n",
            "---  ------             --------------  -----  \n",
            " 0   symboling          205 non-null    int64  \n",
            " 1   normalized-losses  205 non-null    object \n",
            " 2   make               205 non-null    object \n",
            " 3   fuel-type          205 non-null    object \n",
            " 4   body-style         205 non-null    object \n",
            " 5   drive-wheels       205 non-null    object \n",
            " 6   engine-location    205 non-null    object \n",
            " 7   width              205 non-null    float64\n",
            " 8   height             205 non-null    float64\n",
            " 9   engine-type        205 non-null    object \n",
            " 10  engine-size        205 non-null    int64  \n",
            " 11  horsepower         203 non-null    float64\n",
            " 12  city-mpg           205 non-null    int64  \n",
            " 13  highway-mpg        205 non-null    int64  \n",
            " 14  price              205 non-null    int64  \n",
            "dtypes: float64(3), int64(5), object(7)\n",
            "memory usage: 24.1+ KB\n"
          ],
          "name": "stdout"
        }
      ]
    },
    {
      "cell_type": "code",
      "metadata": {
        "id": "6u2CgpjLXOzn"
      },
      "source": [
        "df['horsepower'].fillna(df['horsepower'].mean(), inplace=True)"
      ],
      "execution_count": null,
      "outputs": []
    },
    {
      "cell_type": "code",
      "metadata": {
        "id": "FGZGNjh1XOzo",
        "outputId": "2e70a3ba-749a-40fa-da0f-2973bafd2414"
      },
      "source": [
        "df['horsepower'].unique()"
      ],
      "execution_count": null,
      "outputs": [
        {
          "output_type": "execute_result",
          "data": {
            "text/plain": [
              "array([111.        , 154.        , 102.        , 115.        ,\n",
              "       110.        , 140.        , 160.        , 101.        ,\n",
              "       121.        , 182.        ,  48.        ,  70.        ,\n",
              "        68.        ,  88.        , 145.        ,  58.        ,\n",
              "        76.        ,  60.        ,  86.        , 100.        ,\n",
              "        78.        ,  90.        , 176.        , 262.        ,\n",
              "       135.        ,  84.        ,  64.        , 120.        ,\n",
              "        72.        , 123.        , 155.        , 184.        ,\n",
              "       175.        , 116.        ,  69.        ,  55.        ,\n",
              "        97.        , 152.        , 200.        ,  95.        ,\n",
              "       142.        , 143.        , 207.        , 288.        ,\n",
              "       104.25615764,  73.        ,  82.        ,  94.        ,\n",
              "        62.        ,  56.        , 112.        ,  92.        ,\n",
              "       161.        , 156.        ,  52.        ,  85.        ,\n",
              "       114.        , 162.        , 134.        , 106.        ])"
            ]
          },
          "metadata": {
            "tags": []
          },
          "execution_count": 21
        }
      ]
    },
    {
      "cell_type": "code",
      "metadata": {
        "id": "GWwrw-ckXOzq"
      },
      "source": [
        "df['normalized-losses'].replace(\"?\", np.nan, inplace=True)\n",
        "df['normalized-losses']=df['normalized-losses'].astype('float64')\n",
        "df['normalized-losses'].fillna(df['normalized-losses'].mean(), inplace=True)"
      ],
      "execution_count": null,
      "outputs": []
    },
    {
      "cell_type": "code",
      "metadata": {
        "id": "laJ4DMKIXOzs",
        "outputId": "3db43dea-e32e-42a5-b5c1-e103b3d2d7f6"
      },
      "source": [
        "df['normalized-losses'].unique()"
      ],
      "execution_count": null,
      "outputs": [
        {
          "output_type": "execute_result",
          "data": {
            "text/plain": [
              "array([122., 164., 158., 192., 188., 121.,  98.,  81., 118., 148., 110.,\n",
              "       145., 137., 101.,  78., 106.,  85., 107., 104., 113., 150., 129.,\n",
              "       115.,  93., 142., 161., 153., 125., 128., 103., 168., 108., 194.,\n",
              "       231., 119., 154.,  74., 186.,  83., 102.,  89.,  87.,  77.,  91.,\n",
              "       134.,  65., 197.,  90.,  94., 256.,  95.])"
            ]
          },
          "metadata": {
            "tags": []
          },
          "execution_count": 23
        }
      ]
    },
    {
      "cell_type": "code",
      "metadata": {
        "id": "yrAsdPm7XOzt"
      },
      "source": [
        "df_cat = df.select_dtypes(object)\n",
        "df_num = df.select_dtypes(['float64', 'int64'])"
      ],
      "execution_count": null,
      "outputs": []
    },
    {
      "cell_type": "code",
      "metadata": {
        "id": "4NNtq3LAXOzu",
        "outputId": "4a3f4291-46de-4108-f1b2-6124b8818a44"
      },
      "source": [
        "df_cat.head()"
      ],
      "execution_count": null,
      "outputs": [
        {
          "output_type": "execute_result",
          "data": {
            "text/html": [
              "<div>\n",
              "<style scoped>\n",
              "    .dataframe tbody tr th:only-of-type {\n",
              "        vertical-align: middle;\n",
              "    }\n",
              "\n",
              "    .dataframe tbody tr th {\n",
              "        vertical-align: top;\n",
              "    }\n",
              "\n",
              "    .dataframe thead th {\n",
              "        text-align: right;\n",
              "    }\n",
              "</style>\n",
              "<table border=\"1\" class=\"dataframe\">\n",
              "  <thead>\n",
              "    <tr style=\"text-align: right;\">\n",
              "      <th></th>\n",
              "      <th>make</th>\n",
              "      <th>fuel-type</th>\n",
              "      <th>body-style</th>\n",
              "      <th>drive-wheels</th>\n",
              "      <th>engine-location</th>\n",
              "      <th>engine-type</th>\n",
              "    </tr>\n",
              "  </thead>\n",
              "  <tbody>\n",
              "    <tr>\n",
              "      <th>0</th>\n",
              "      <td>alfa-romero</td>\n",
              "      <td>gas</td>\n",
              "      <td>convertible</td>\n",
              "      <td>rwd</td>\n",
              "      <td>front</td>\n",
              "      <td>dohc</td>\n",
              "    </tr>\n",
              "    <tr>\n",
              "      <th>1</th>\n",
              "      <td>alfa-romero</td>\n",
              "      <td>gas</td>\n",
              "      <td>convertible</td>\n",
              "      <td>rwd</td>\n",
              "      <td>front</td>\n",
              "      <td>dohc</td>\n",
              "    </tr>\n",
              "    <tr>\n",
              "      <th>2</th>\n",
              "      <td>alfa-romero</td>\n",
              "      <td>gas</td>\n",
              "      <td>hatchback</td>\n",
              "      <td>rwd</td>\n",
              "      <td>front</td>\n",
              "      <td>ohcv</td>\n",
              "    </tr>\n",
              "    <tr>\n",
              "      <th>3</th>\n",
              "      <td>audi</td>\n",
              "      <td>gas</td>\n",
              "      <td>sedan</td>\n",
              "      <td>fwd</td>\n",
              "      <td>front</td>\n",
              "      <td>ohc</td>\n",
              "    </tr>\n",
              "    <tr>\n",
              "      <th>4</th>\n",
              "      <td>audi</td>\n",
              "      <td>gas</td>\n",
              "      <td>sedan</td>\n",
              "      <td>4wd</td>\n",
              "      <td>front</td>\n",
              "      <td>ohc</td>\n",
              "    </tr>\n",
              "  </tbody>\n",
              "</table>\n",
              "</div>"
            ],
            "text/plain": [
              "          make fuel-type   body-style drive-wheels engine-location engine-type\n",
              "0  alfa-romero       gas  convertible          rwd           front        dohc\n",
              "1  alfa-romero       gas  convertible          rwd           front        dohc\n",
              "2  alfa-romero       gas    hatchback          rwd           front        ohcv\n",
              "3         audi       gas        sedan          fwd           front         ohc\n",
              "4         audi       gas        sedan          4wd           front         ohc"
            ]
          },
          "metadata": {
            "tags": []
          },
          "execution_count": 25
        }
      ]
    },
    {
      "cell_type": "code",
      "metadata": {
        "id": "anxgtsMoXOzw",
        "outputId": "cfff55e0-76a6-496c-cdf3-81bbd9c66dd3"
      },
      "source": [
        "pd.get_dummies(df_cat['make'])"
      ],
      "execution_count": null,
      "outputs": [
        {
          "output_type": "execute_result",
          "data": {
            "text/html": [
              "<div>\n",
              "<style scoped>\n",
              "    .dataframe tbody tr th:only-of-type {\n",
              "        vertical-align: middle;\n",
              "    }\n",
              "\n",
              "    .dataframe tbody tr th {\n",
              "        vertical-align: top;\n",
              "    }\n",
              "\n",
              "    .dataframe thead th {\n",
              "        text-align: right;\n",
              "    }\n",
              "</style>\n",
              "<table border=\"1\" class=\"dataframe\">\n",
              "  <thead>\n",
              "    <tr style=\"text-align: right;\">\n",
              "      <th></th>\n",
              "      <th>alfa-romero</th>\n",
              "      <th>audi</th>\n",
              "      <th>bmw</th>\n",
              "      <th>chevrolet</th>\n",
              "      <th>dodge</th>\n",
              "      <th>honda</th>\n",
              "      <th>isuzu</th>\n",
              "      <th>jaguar</th>\n",
              "      <th>mazda</th>\n",
              "      <th>mercedes-benz</th>\n",
              "      <th>...</th>\n",
              "      <th>nissan</th>\n",
              "      <th>peugot</th>\n",
              "      <th>plymouth</th>\n",
              "      <th>porsche</th>\n",
              "      <th>renault</th>\n",
              "      <th>saab</th>\n",
              "      <th>subaru</th>\n",
              "      <th>toyota</th>\n",
              "      <th>volkswagen</th>\n",
              "      <th>volvo</th>\n",
              "    </tr>\n",
              "  </thead>\n",
              "  <tbody>\n",
              "    <tr>\n",
              "      <th>0</th>\n",
              "      <td>1</td>\n",
              "      <td>0</td>\n",
              "      <td>0</td>\n",
              "      <td>0</td>\n",
              "      <td>0</td>\n",
              "      <td>0</td>\n",
              "      <td>0</td>\n",
              "      <td>0</td>\n",
              "      <td>0</td>\n",
              "      <td>0</td>\n",
              "      <td>...</td>\n",
              "      <td>0</td>\n",
              "      <td>0</td>\n",
              "      <td>0</td>\n",
              "      <td>0</td>\n",
              "      <td>0</td>\n",
              "      <td>0</td>\n",
              "      <td>0</td>\n",
              "      <td>0</td>\n",
              "      <td>0</td>\n",
              "      <td>0</td>\n",
              "    </tr>\n",
              "    <tr>\n",
              "      <th>1</th>\n",
              "      <td>1</td>\n",
              "      <td>0</td>\n",
              "      <td>0</td>\n",
              "      <td>0</td>\n",
              "      <td>0</td>\n",
              "      <td>0</td>\n",
              "      <td>0</td>\n",
              "      <td>0</td>\n",
              "      <td>0</td>\n",
              "      <td>0</td>\n",
              "      <td>...</td>\n",
              "      <td>0</td>\n",
              "      <td>0</td>\n",
              "      <td>0</td>\n",
              "      <td>0</td>\n",
              "      <td>0</td>\n",
              "      <td>0</td>\n",
              "      <td>0</td>\n",
              "      <td>0</td>\n",
              "      <td>0</td>\n",
              "      <td>0</td>\n",
              "    </tr>\n",
              "    <tr>\n",
              "      <th>2</th>\n",
              "      <td>1</td>\n",
              "      <td>0</td>\n",
              "      <td>0</td>\n",
              "      <td>0</td>\n",
              "      <td>0</td>\n",
              "      <td>0</td>\n",
              "      <td>0</td>\n",
              "      <td>0</td>\n",
              "      <td>0</td>\n",
              "      <td>0</td>\n",
              "      <td>...</td>\n",
              "      <td>0</td>\n",
              "      <td>0</td>\n",
              "      <td>0</td>\n",
              "      <td>0</td>\n",
              "      <td>0</td>\n",
              "      <td>0</td>\n",
              "      <td>0</td>\n",
              "      <td>0</td>\n",
              "      <td>0</td>\n",
              "      <td>0</td>\n",
              "    </tr>\n",
              "    <tr>\n",
              "      <th>3</th>\n",
              "      <td>0</td>\n",
              "      <td>1</td>\n",
              "      <td>0</td>\n",
              "      <td>0</td>\n",
              "      <td>0</td>\n",
              "      <td>0</td>\n",
              "      <td>0</td>\n",
              "      <td>0</td>\n",
              "      <td>0</td>\n",
              "      <td>0</td>\n",
              "      <td>...</td>\n",
              "      <td>0</td>\n",
              "      <td>0</td>\n",
              "      <td>0</td>\n",
              "      <td>0</td>\n",
              "      <td>0</td>\n",
              "      <td>0</td>\n",
              "      <td>0</td>\n",
              "      <td>0</td>\n",
              "      <td>0</td>\n",
              "      <td>0</td>\n",
              "    </tr>\n",
              "    <tr>\n",
              "      <th>4</th>\n",
              "      <td>0</td>\n",
              "      <td>1</td>\n",
              "      <td>0</td>\n",
              "      <td>0</td>\n",
              "      <td>0</td>\n",
              "      <td>0</td>\n",
              "      <td>0</td>\n",
              "      <td>0</td>\n",
              "      <td>0</td>\n",
              "      <td>0</td>\n",
              "      <td>...</td>\n",
              "      <td>0</td>\n",
              "      <td>0</td>\n",
              "      <td>0</td>\n",
              "      <td>0</td>\n",
              "      <td>0</td>\n",
              "      <td>0</td>\n",
              "      <td>0</td>\n",
              "      <td>0</td>\n",
              "      <td>0</td>\n",
              "      <td>0</td>\n",
              "    </tr>\n",
              "    <tr>\n",
              "      <th>...</th>\n",
              "      <td>...</td>\n",
              "      <td>...</td>\n",
              "      <td>...</td>\n",
              "      <td>...</td>\n",
              "      <td>...</td>\n",
              "      <td>...</td>\n",
              "      <td>...</td>\n",
              "      <td>...</td>\n",
              "      <td>...</td>\n",
              "      <td>...</td>\n",
              "      <td>...</td>\n",
              "      <td>...</td>\n",
              "      <td>...</td>\n",
              "      <td>...</td>\n",
              "      <td>...</td>\n",
              "      <td>...</td>\n",
              "      <td>...</td>\n",
              "      <td>...</td>\n",
              "      <td>...</td>\n",
              "      <td>...</td>\n",
              "      <td>...</td>\n",
              "    </tr>\n",
              "    <tr>\n",
              "      <th>200</th>\n",
              "      <td>0</td>\n",
              "      <td>0</td>\n",
              "      <td>0</td>\n",
              "      <td>0</td>\n",
              "      <td>0</td>\n",
              "      <td>0</td>\n",
              "      <td>0</td>\n",
              "      <td>0</td>\n",
              "      <td>0</td>\n",
              "      <td>0</td>\n",
              "      <td>...</td>\n",
              "      <td>0</td>\n",
              "      <td>0</td>\n",
              "      <td>0</td>\n",
              "      <td>0</td>\n",
              "      <td>0</td>\n",
              "      <td>0</td>\n",
              "      <td>0</td>\n",
              "      <td>0</td>\n",
              "      <td>0</td>\n",
              "      <td>1</td>\n",
              "    </tr>\n",
              "    <tr>\n",
              "      <th>201</th>\n",
              "      <td>0</td>\n",
              "      <td>0</td>\n",
              "      <td>0</td>\n",
              "      <td>0</td>\n",
              "      <td>0</td>\n",
              "      <td>0</td>\n",
              "      <td>0</td>\n",
              "      <td>0</td>\n",
              "      <td>0</td>\n",
              "      <td>0</td>\n",
              "      <td>...</td>\n",
              "      <td>0</td>\n",
              "      <td>0</td>\n",
              "      <td>0</td>\n",
              "      <td>0</td>\n",
              "      <td>0</td>\n",
              "      <td>0</td>\n",
              "      <td>0</td>\n",
              "      <td>0</td>\n",
              "      <td>0</td>\n",
              "      <td>1</td>\n",
              "    </tr>\n",
              "    <tr>\n",
              "      <th>202</th>\n",
              "      <td>0</td>\n",
              "      <td>0</td>\n",
              "      <td>0</td>\n",
              "      <td>0</td>\n",
              "      <td>0</td>\n",
              "      <td>0</td>\n",
              "      <td>0</td>\n",
              "      <td>0</td>\n",
              "      <td>0</td>\n",
              "      <td>0</td>\n",
              "      <td>...</td>\n",
              "      <td>0</td>\n",
              "      <td>0</td>\n",
              "      <td>0</td>\n",
              "      <td>0</td>\n",
              "      <td>0</td>\n",
              "      <td>0</td>\n",
              "      <td>0</td>\n",
              "      <td>0</td>\n",
              "      <td>0</td>\n",
              "      <td>1</td>\n",
              "    </tr>\n",
              "    <tr>\n",
              "      <th>203</th>\n",
              "      <td>0</td>\n",
              "      <td>0</td>\n",
              "      <td>0</td>\n",
              "      <td>0</td>\n",
              "      <td>0</td>\n",
              "      <td>0</td>\n",
              "      <td>0</td>\n",
              "      <td>0</td>\n",
              "      <td>0</td>\n",
              "      <td>0</td>\n",
              "      <td>...</td>\n",
              "      <td>0</td>\n",
              "      <td>0</td>\n",
              "      <td>0</td>\n",
              "      <td>0</td>\n",
              "      <td>0</td>\n",
              "      <td>0</td>\n",
              "      <td>0</td>\n",
              "      <td>0</td>\n",
              "      <td>0</td>\n",
              "      <td>1</td>\n",
              "    </tr>\n",
              "    <tr>\n",
              "      <th>204</th>\n",
              "      <td>0</td>\n",
              "      <td>0</td>\n",
              "      <td>0</td>\n",
              "      <td>0</td>\n",
              "      <td>0</td>\n",
              "      <td>0</td>\n",
              "      <td>0</td>\n",
              "      <td>0</td>\n",
              "      <td>0</td>\n",
              "      <td>0</td>\n",
              "      <td>...</td>\n",
              "      <td>0</td>\n",
              "      <td>0</td>\n",
              "      <td>0</td>\n",
              "      <td>0</td>\n",
              "      <td>0</td>\n",
              "      <td>0</td>\n",
              "      <td>0</td>\n",
              "      <td>0</td>\n",
              "      <td>0</td>\n",
              "      <td>1</td>\n",
              "    </tr>\n",
              "  </tbody>\n",
              "</table>\n",
              "<p>205 rows × 22 columns</p>\n",
              "</div>"
            ],
            "text/plain": [
              "     alfa-romero  audi  bmw  chevrolet  dodge  honda  isuzu  jaguar  mazda  \\\n",
              "0              1     0    0          0      0      0      0       0      0   \n",
              "1              1     0    0          0      0      0      0       0      0   \n",
              "2              1     0    0          0      0      0      0       0      0   \n",
              "3              0     1    0          0      0      0      0       0      0   \n",
              "4              0     1    0          0      0      0      0       0      0   \n",
              "..           ...   ...  ...        ...    ...    ...    ...     ...    ...   \n",
              "200            0     0    0          0      0      0      0       0      0   \n",
              "201            0     0    0          0      0      0      0       0      0   \n",
              "202            0     0    0          0      0      0      0       0      0   \n",
              "203            0     0    0          0      0      0      0       0      0   \n",
              "204            0     0    0          0      0      0      0       0      0   \n",
              "\n",
              "     mercedes-benz  ...  nissan  peugot  plymouth  porsche  renault  saab  \\\n",
              "0                0  ...       0       0         0        0        0     0   \n",
              "1                0  ...       0       0         0        0        0     0   \n",
              "2                0  ...       0       0         0        0        0     0   \n",
              "3                0  ...       0       0         0        0        0     0   \n",
              "4                0  ...       0       0         0        0        0     0   \n",
              "..             ...  ...     ...     ...       ...      ...      ...   ...   \n",
              "200              0  ...       0       0         0        0        0     0   \n",
              "201              0  ...       0       0         0        0        0     0   \n",
              "202              0  ...       0       0         0        0        0     0   \n",
              "203              0  ...       0       0         0        0        0     0   \n",
              "204              0  ...       0       0         0        0        0     0   \n",
              "\n",
              "     subaru  toyota  volkswagen  volvo  \n",
              "0         0       0           0      0  \n",
              "1         0       0           0      0  \n",
              "2         0       0           0      0  \n",
              "3         0       0           0      0  \n",
              "4         0       0           0      0  \n",
              "..      ...     ...         ...    ...  \n",
              "200       0       0           0      1  \n",
              "201       0       0           0      1  \n",
              "202       0       0           0      1  \n",
              "203       0       0           0      1  \n",
              "204       0       0           0      1  \n",
              "\n",
              "[205 rows x 22 columns]"
            ]
          },
          "metadata": {
            "tags": []
          },
          "execution_count": 26
        }
      ]
    },
    {
      "cell_type": "code",
      "metadata": {
        "id": "EiivqX5JXOzx",
        "outputId": "8f17bd66-9de8-407a-c4b5-c65f1281f0be"
      },
      "source": [
        "from sklearn.preprocessing import OneHotEncoder\n",
        "#return 2D array\n",
        "\n",
        "ohe = OneHotEncoder()\n",
        "print(ohe.fit_transform(df_cat[['make']]))"
      ],
      "execution_count": null,
      "outputs": [
        {
          "output_type": "stream",
          "text": [
            "  (0, 0)\t1.0\n",
            "  (1, 0)\t1.0\n",
            "  (2, 0)\t1.0\n",
            "  (3, 1)\t1.0\n",
            "  (4, 1)\t1.0\n",
            "  (5, 1)\t1.0\n",
            "  (6, 1)\t1.0\n",
            "  (7, 1)\t1.0\n",
            "  (8, 1)\t1.0\n",
            "  (9, 1)\t1.0\n",
            "  (10, 2)\t1.0\n",
            "  (11, 2)\t1.0\n",
            "  (12, 2)\t1.0\n",
            "  (13, 2)\t1.0\n",
            "  (14, 2)\t1.0\n",
            "  (15, 2)\t1.0\n",
            "  (16, 2)\t1.0\n",
            "  (17, 2)\t1.0\n",
            "  (18, 3)\t1.0\n",
            "  (19, 3)\t1.0\n",
            "  (20, 3)\t1.0\n",
            "  (21, 4)\t1.0\n",
            "  (22, 4)\t1.0\n",
            "  (23, 4)\t1.0\n",
            "  (24, 4)\t1.0\n",
            "  :\t:\n",
            "  (180, 19)\t1.0\n",
            "  (181, 19)\t1.0\n",
            "  (182, 20)\t1.0\n",
            "  (183, 20)\t1.0\n",
            "  (184, 20)\t1.0\n",
            "  (185, 20)\t1.0\n",
            "  (186, 20)\t1.0\n",
            "  (187, 20)\t1.0\n",
            "  (188, 20)\t1.0\n",
            "  (189, 20)\t1.0\n",
            "  (190, 20)\t1.0\n",
            "  (191, 20)\t1.0\n",
            "  (192, 20)\t1.0\n",
            "  (193, 20)\t1.0\n",
            "  (194, 21)\t1.0\n",
            "  (195, 21)\t1.0\n",
            "  (196, 21)\t1.0\n",
            "  (197, 21)\t1.0\n",
            "  (198, 21)\t1.0\n",
            "  (199, 21)\t1.0\n",
            "  (200, 21)\t1.0\n",
            "  (201, 21)\t1.0\n",
            "  (202, 21)\t1.0\n",
            "  (203, 21)\t1.0\n",
            "  (204, 21)\t1.0\n"
          ],
          "name": "stdout"
        }
      ]
    },
    {
      "cell_type": "code",
      "metadata": {
        "id": "STI6lDghXOzy"
      },
      "source": [
        "from sklearn.preprocessing import LabelEncoder\n",
        "# fit() - applying the formulas\n",
        "# transform() - convert each record in df column into the desired\n",
        "# fit_transform() - combing both fit + transform"
      ],
      "execution_count": null,
      "outputs": []
    },
    {
      "cell_type": "code",
      "metadata": {
        "id": "v6r6eM4gXOz0",
        "outputId": "cbe49360-d0b5-4f45-e6ed-ec47bc61c3a3"
      },
      "source": [
        "le = LabelEncoder()\n",
        "le.fit(df_cat['make'])"
      ],
      "execution_count": null,
      "outputs": [
        {
          "output_type": "execute_result",
          "data": {
            "text/plain": [
              "LabelEncoder()"
            ]
          },
          "metadata": {
            "tags": []
          },
          "execution_count": 31
        }
      ]
    },
    {
      "cell_type": "code",
      "metadata": {
        "id": "GEmapq6fXOz1",
        "outputId": "c075f943-bc9f-40b4-db6b-4900432b8ec1"
      },
      "source": [
        "le.classes_"
      ],
      "execution_count": null,
      "outputs": [
        {
          "output_type": "execute_result",
          "data": {
            "text/plain": [
              "array(['alfa-romero', 'audi', 'bmw', 'chevrolet', 'dodge', 'honda',\n",
              "       'isuzu', 'jaguar', 'mazda', 'mercedes-benz', 'mercury',\n",
              "       'mitsubishi', 'nissan', 'peugot', 'plymouth', 'porsche', 'renault',\n",
              "       'saab', 'subaru', 'toyota', 'volkswagen', 'volvo'], dtype=object)"
            ]
          },
          "metadata": {
            "tags": []
          },
          "execution_count": 32
        }
      ]
    },
    {
      "cell_type": "code",
      "metadata": {
        "id": "C3C8_nbuXOz2"
      },
      "source": [
        "data=le.transform(df_cat['make'])"
      ],
      "execution_count": null,
      "outputs": []
    },
    {
      "cell_type": "code",
      "metadata": {
        "id": "b4iGx6CZXOz3",
        "outputId": "1c7da3d5-1495-4aa4-9a8b-6d0a4b0ab686"
      },
      "source": [
        "data"
      ],
      "execution_count": null,
      "outputs": [
        {
          "output_type": "execute_result",
          "data": {
            "text/plain": [
              "array([ 0,  0,  0,  1,  1,  1,  1,  1,  1,  1,  2,  2,  2,  2,  2,  2,  2,\n",
              "        2,  3,  3,  3,  4,  4,  4,  4,  4,  4,  4,  4,  4,  5,  5,  5,  5,\n",
              "        5,  5,  5,  5,  5,  5,  5,  5,  5,  6,  6,  6,  6,  7,  7,  7,  8,\n",
              "        8,  8,  8,  8,  8,  8,  8,  8,  8,  8,  8,  8,  8,  8,  8,  8,  9,\n",
              "        9,  9,  9,  9,  9,  9,  9, 10, 11, 11, 11, 11, 11, 11, 11, 11, 11,\n",
              "       11, 11, 11, 11, 12, 12, 12, 12, 12, 12, 12, 12, 12, 12, 12, 12, 12,\n",
              "       12, 12, 12, 12, 12, 13, 13, 13, 13, 13, 13, 13, 13, 13, 13, 13, 14,\n",
              "       14, 14, 14, 14, 14, 14, 15, 15, 15, 15, 15, 16, 16, 17, 17, 17, 17,\n",
              "       17, 17, 18, 18, 18, 18, 18, 18, 18, 18, 18, 18, 18, 18, 19, 19, 19,\n",
              "       19, 19, 19, 19, 19, 19, 19, 19, 19, 19, 19, 19, 19, 19, 19, 19, 19,\n",
              "       19, 19, 19, 19, 19, 19, 19, 19, 19, 19, 19, 19, 20, 20, 20, 20, 20,\n",
              "       20, 20, 20, 20, 20, 20, 20, 21, 21, 21, 21, 21, 21, 21, 21, 21, 21,\n",
              "       21])"
            ]
          },
          "metadata": {
            "tags": []
          },
          "execution_count": 34
        }
      ]
    },
    {
      "cell_type": "code",
      "metadata": {
        "id": "_y03f2v4XOz4",
        "outputId": "961edc72-24fd-43b9-acdd-6aea9a6511e6"
      },
      "source": [
        "le.inverse_transform(data)"
      ],
      "execution_count": null,
      "outputs": [
        {
          "output_type": "execute_result",
          "data": {
            "text/plain": [
              "array(['alfa-romero', 'alfa-romero', 'alfa-romero', 'audi', 'audi',\n",
              "       'audi', 'audi', 'audi', 'audi', 'audi', 'bmw', 'bmw', 'bmw', 'bmw',\n",
              "       'bmw', 'bmw', 'bmw', 'bmw', 'chevrolet', 'chevrolet', 'chevrolet',\n",
              "       'dodge', 'dodge', 'dodge', 'dodge', 'dodge', 'dodge', 'dodge',\n",
              "       'dodge', 'dodge', 'honda', 'honda', 'honda', 'honda', 'honda',\n",
              "       'honda', 'honda', 'honda', 'honda', 'honda', 'honda', 'honda',\n",
              "       'honda', 'isuzu', 'isuzu', 'isuzu', 'isuzu', 'jaguar', 'jaguar',\n",
              "       'jaguar', 'mazda', 'mazda', 'mazda', 'mazda', 'mazda', 'mazda',\n",
              "       'mazda', 'mazda', 'mazda', 'mazda', 'mazda', 'mazda', 'mazda',\n",
              "       'mazda', 'mazda', 'mazda', 'mazda', 'mercedes-benz',\n",
              "       'mercedes-benz', 'mercedes-benz', 'mercedes-benz', 'mercedes-benz',\n",
              "       'mercedes-benz', 'mercedes-benz', 'mercedes-benz', 'mercury',\n",
              "       'mitsubishi', 'mitsubishi', 'mitsubishi', 'mitsubishi',\n",
              "       'mitsubishi', 'mitsubishi', 'mitsubishi', 'mitsubishi',\n",
              "       'mitsubishi', 'mitsubishi', 'mitsubishi', 'mitsubishi',\n",
              "       'mitsubishi', 'nissan', 'nissan', 'nissan', 'nissan', 'nissan',\n",
              "       'nissan', 'nissan', 'nissan', 'nissan', 'nissan', 'nissan',\n",
              "       'nissan', 'nissan', 'nissan', 'nissan', 'nissan', 'nissan',\n",
              "       'nissan', 'peugot', 'peugot', 'peugot', 'peugot', 'peugot',\n",
              "       'peugot', 'peugot', 'peugot', 'peugot', 'peugot', 'peugot',\n",
              "       'plymouth', 'plymouth', 'plymouth', 'plymouth', 'plymouth',\n",
              "       'plymouth', 'plymouth', 'porsche', 'porsche', 'porsche', 'porsche',\n",
              "       'porsche', 'renault', 'renault', 'saab', 'saab', 'saab', 'saab',\n",
              "       'saab', 'saab', 'subaru', 'subaru', 'subaru', 'subaru', 'subaru',\n",
              "       'subaru', 'subaru', 'subaru', 'subaru', 'subaru', 'subaru',\n",
              "       'subaru', 'toyota', 'toyota', 'toyota', 'toyota', 'toyota',\n",
              "       'toyota', 'toyota', 'toyota', 'toyota', 'toyota', 'toyota',\n",
              "       'toyota', 'toyota', 'toyota', 'toyota', 'toyota', 'toyota',\n",
              "       'toyota', 'toyota', 'toyota', 'toyota', 'toyota', 'toyota',\n",
              "       'toyota', 'toyota', 'toyota', 'toyota', 'toyota', 'toyota',\n",
              "       'toyota', 'toyota', 'toyota', 'volkswagen', 'volkswagen',\n",
              "       'volkswagen', 'volkswagen', 'volkswagen', 'volkswagen',\n",
              "       'volkswagen', 'volkswagen', 'volkswagen', 'volkswagen',\n",
              "       'volkswagen', 'volkswagen', 'volvo', 'volvo', 'volvo', 'volvo',\n",
              "       'volvo', 'volvo', 'volvo', 'volvo', 'volvo', 'volvo', 'volvo'],\n",
              "      dtype=object)"
            ]
          },
          "metadata": {
            "tags": []
          },
          "execution_count": 35
        }
      ]
    },
    {
      "cell_type": "code",
      "metadata": {
        "id": "-TRHQ-HaXOz6"
      },
      "source": [
        "for col in df_cat:\n",
        "    le = LabelEncoder()\n",
        "    df_cat[col] = le.fit_transform(df_cat[col])"
      ],
      "execution_count": null,
      "outputs": []
    },
    {
      "cell_type": "code",
      "metadata": {
        "id": "5iSVwxuWXOz7",
        "outputId": "85208a6c-4ccc-450d-f864-af5006d0c37f"
      },
      "source": [
        "df_cat.head()"
      ],
      "execution_count": null,
      "outputs": [
        {
          "output_type": "execute_result",
          "data": {
            "text/html": [
              "<div>\n",
              "<style scoped>\n",
              "    .dataframe tbody tr th:only-of-type {\n",
              "        vertical-align: middle;\n",
              "    }\n",
              "\n",
              "    .dataframe tbody tr th {\n",
              "        vertical-align: top;\n",
              "    }\n",
              "\n",
              "    .dataframe thead th {\n",
              "        text-align: right;\n",
              "    }\n",
              "</style>\n",
              "<table border=\"1\" class=\"dataframe\">\n",
              "  <thead>\n",
              "    <tr style=\"text-align: right;\">\n",
              "      <th></th>\n",
              "      <th>make</th>\n",
              "      <th>fuel-type</th>\n",
              "      <th>body-style</th>\n",
              "      <th>drive-wheels</th>\n",
              "      <th>engine-location</th>\n",
              "      <th>engine-type</th>\n",
              "    </tr>\n",
              "  </thead>\n",
              "  <tbody>\n",
              "    <tr>\n",
              "      <th>0</th>\n",
              "      <td>0</td>\n",
              "      <td>1</td>\n",
              "      <td>0</td>\n",
              "      <td>2</td>\n",
              "      <td>0</td>\n",
              "      <td>0</td>\n",
              "    </tr>\n",
              "    <tr>\n",
              "      <th>1</th>\n",
              "      <td>0</td>\n",
              "      <td>1</td>\n",
              "      <td>0</td>\n",
              "      <td>2</td>\n",
              "      <td>0</td>\n",
              "      <td>0</td>\n",
              "    </tr>\n",
              "    <tr>\n",
              "      <th>2</th>\n",
              "      <td>0</td>\n",
              "      <td>1</td>\n",
              "      <td>2</td>\n",
              "      <td>2</td>\n",
              "      <td>0</td>\n",
              "      <td>5</td>\n",
              "    </tr>\n",
              "    <tr>\n",
              "      <th>3</th>\n",
              "      <td>1</td>\n",
              "      <td>1</td>\n",
              "      <td>3</td>\n",
              "      <td>1</td>\n",
              "      <td>0</td>\n",
              "      <td>3</td>\n",
              "    </tr>\n",
              "    <tr>\n",
              "      <th>4</th>\n",
              "      <td>1</td>\n",
              "      <td>1</td>\n",
              "      <td>3</td>\n",
              "      <td>0</td>\n",
              "      <td>0</td>\n",
              "      <td>3</td>\n",
              "    </tr>\n",
              "  </tbody>\n",
              "</table>\n",
              "</div>"
            ],
            "text/plain": [
              "   make  fuel-type  body-style  drive-wheels  engine-location  engine-type\n",
              "0     0          1           0             2                0            0\n",
              "1     0          1           0             2                0            0\n",
              "2     0          1           2             2                0            5\n",
              "3     1          1           3             1                0            3\n",
              "4     1          1           3             0                0            3"
            ]
          },
          "metadata": {
            "tags": []
          },
          "execution_count": 38
        }
      ]
    },
    {
      "cell_type": "code",
      "metadata": {
        "id": "ewVKn_zMXOz8",
        "outputId": "77fbdcd5-b37d-4ae5-9e90-38ea6ed0b1db"
      },
      "source": [
        "df_num.corr()"
      ],
      "execution_count": null,
      "outputs": [
        {
          "output_type": "execute_result",
          "data": {
            "text/html": [
              "<div>\n",
              "<style scoped>\n",
              "    .dataframe tbody tr th:only-of-type {\n",
              "        vertical-align: middle;\n",
              "    }\n",
              "\n",
              "    .dataframe tbody tr th {\n",
              "        vertical-align: top;\n",
              "    }\n",
              "\n",
              "    .dataframe thead th {\n",
              "        text-align: right;\n",
              "    }\n",
              "</style>\n",
              "<table border=\"1\" class=\"dataframe\">\n",
              "  <thead>\n",
              "    <tr style=\"text-align: right;\">\n",
              "      <th></th>\n",
              "      <th>symboling</th>\n",
              "      <th>normalized-losses</th>\n",
              "      <th>width</th>\n",
              "      <th>height</th>\n",
              "      <th>engine-size</th>\n",
              "      <th>horsepower</th>\n",
              "      <th>city-mpg</th>\n",
              "      <th>highway-mpg</th>\n",
              "      <th>price</th>\n",
              "    </tr>\n",
              "  </thead>\n",
              "  <tbody>\n",
              "    <tr>\n",
              "      <th>symboling</th>\n",
              "      <td>1.000000</td>\n",
              "      <td>0.465190</td>\n",
              "      <td>-0.232919</td>\n",
              "      <td>-0.541038</td>\n",
              "      <td>-0.105790</td>\n",
              "      <td>0.071389</td>\n",
              "      <td>-0.035823</td>\n",
              "      <td>0.034606</td>\n",
              "      <td>-0.085781</td>\n",
              "    </tr>\n",
              "    <tr>\n",
              "      <th>normalized-losses</th>\n",
              "      <td>0.465190</td>\n",
              "      <td>1.000000</td>\n",
              "      <td>0.084195</td>\n",
              "      <td>-0.370706</td>\n",
              "      <td>0.110997</td>\n",
              "      <td>0.203434</td>\n",
              "      <td>-0.218749</td>\n",
              "      <td>-0.178221</td>\n",
              "      <td>0.133424</td>\n",
              "    </tr>\n",
              "    <tr>\n",
              "      <th>width</th>\n",
              "      <td>-0.232919</td>\n",
              "      <td>0.084195</td>\n",
              "      <td>1.000000</td>\n",
              "      <td>0.279210</td>\n",
              "      <td>0.735433</td>\n",
              "      <td>0.642195</td>\n",
              "      <td>-0.642704</td>\n",
              "      <td>-0.677218</td>\n",
              "      <td>0.718253</td>\n",
              "    </tr>\n",
              "    <tr>\n",
              "      <th>height</th>\n",
              "      <td>-0.541038</td>\n",
              "      <td>-0.370706</td>\n",
              "      <td>0.279210</td>\n",
              "      <td>1.000000</td>\n",
              "      <td>0.067149</td>\n",
              "      <td>-0.110137</td>\n",
              "      <td>-0.048640</td>\n",
              "      <td>-0.107358</td>\n",
              "      <td>0.132444</td>\n",
              "    </tr>\n",
              "    <tr>\n",
              "      <th>engine-size</th>\n",
              "      <td>-0.105790</td>\n",
              "      <td>0.110997</td>\n",
              "      <td>0.735433</td>\n",
              "      <td>0.067149</td>\n",
              "      <td>1.000000</td>\n",
              "      <td>0.810713</td>\n",
              "      <td>-0.653658</td>\n",
              "      <td>-0.677470</td>\n",
              "      <td>0.852995</td>\n",
              "    </tr>\n",
              "    <tr>\n",
              "      <th>horsepower</th>\n",
              "      <td>0.071389</td>\n",
              "      <td>0.203434</td>\n",
              "      <td>0.642195</td>\n",
              "      <td>-0.110137</td>\n",
              "      <td>0.810713</td>\n",
              "      <td>1.000000</td>\n",
              "      <td>-0.803162</td>\n",
              "      <td>-0.770903</td>\n",
              "      <td>0.746589</td>\n",
              "    </tr>\n",
              "    <tr>\n",
              "      <th>city-mpg</th>\n",
              "      <td>-0.035823</td>\n",
              "      <td>-0.218749</td>\n",
              "      <td>-0.642704</td>\n",
              "      <td>-0.048640</td>\n",
              "      <td>-0.653658</td>\n",
              "      <td>-0.803162</td>\n",
              "      <td>1.000000</td>\n",
              "      <td>0.971337</td>\n",
              "      <td>-0.654611</td>\n",
              "    </tr>\n",
              "    <tr>\n",
              "      <th>highway-mpg</th>\n",
              "      <td>0.034606</td>\n",
              "      <td>-0.178221</td>\n",
              "      <td>-0.677218</td>\n",
              "      <td>-0.107358</td>\n",
              "      <td>-0.677470</td>\n",
              "      <td>-0.770903</td>\n",
              "      <td>0.971337</td>\n",
              "      <td>1.000000</td>\n",
              "      <td>-0.679048</td>\n",
              "    </tr>\n",
              "    <tr>\n",
              "      <th>price</th>\n",
              "      <td>-0.085781</td>\n",
              "      <td>0.133424</td>\n",
              "      <td>0.718253</td>\n",
              "      <td>0.132444</td>\n",
              "      <td>0.852995</td>\n",
              "      <td>0.746589</td>\n",
              "      <td>-0.654611</td>\n",
              "      <td>-0.679048</td>\n",
              "      <td>1.000000</td>\n",
              "    </tr>\n",
              "  </tbody>\n",
              "</table>\n",
              "</div>"
            ],
            "text/plain": [
              "                   symboling  normalized-losses     width    height  \\\n",
              "symboling           1.000000           0.465190 -0.232919 -0.541038   \n",
              "normalized-losses   0.465190           1.000000  0.084195 -0.370706   \n",
              "width              -0.232919           0.084195  1.000000  0.279210   \n",
              "height             -0.541038          -0.370706  0.279210  1.000000   \n",
              "engine-size        -0.105790           0.110997  0.735433  0.067149   \n",
              "horsepower          0.071389           0.203434  0.642195 -0.110137   \n",
              "city-mpg           -0.035823          -0.218749 -0.642704 -0.048640   \n",
              "highway-mpg         0.034606          -0.178221 -0.677218 -0.107358   \n",
              "price              -0.085781           0.133424  0.718253  0.132444   \n",
              "\n",
              "                   engine-size  horsepower  city-mpg  highway-mpg     price  \n",
              "symboling            -0.105790    0.071389 -0.035823     0.034606 -0.085781  \n",
              "normalized-losses     0.110997    0.203434 -0.218749    -0.178221  0.133424  \n",
              "width                 0.735433    0.642195 -0.642704    -0.677218  0.718253  \n",
              "height                0.067149   -0.110137 -0.048640    -0.107358  0.132444  \n",
              "engine-size           1.000000    0.810713 -0.653658    -0.677470  0.852995  \n",
              "horsepower            0.810713    1.000000 -0.803162    -0.770903  0.746589  \n",
              "city-mpg             -0.653658   -0.803162  1.000000     0.971337 -0.654611  \n",
              "highway-mpg          -0.677470   -0.770903  0.971337     1.000000 -0.679048  \n",
              "price                 0.852995    0.746589 -0.654611    -0.679048  1.000000  "
            ]
          },
          "metadata": {
            "tags": []
          },
          "execution_count": 39
        }
      ]
    },
    {
      "cell_type": "code",
      "metadata": {
        "id": "xCIxBb9SXOz-"
      },
      "source": [
        "from scipy.stats import skew"
      ],
      "execution_count": null,
      "outputs": []
    },
    {
      "cell_type": "code",
      "metadata": {
        "scrolled": true,
        "id": "ttfrcvABXOz_",
        "outputId": "78c0dd67-0b8f-4ac6-f4a0-4baabba54bed"
      },
      "source": [
        "for col in df_num.drop('price', axis=1):\n",
        "    print(col)\n",
        "    print(\"Skew = \", skew(df_num[col]))\n",
        "    sns.distplot(df_num[col])\n",
        "    plt.show()\n",
        "    print(\"---------------------------------------------\")"
      ],
      "execution_count": null,
      "outputs": [
        {
          "output_type": "stream",
          "text": [
            "symboling\n",
            "Skew =  0.20952469094997359\n"
          ],
          "name": "stdout"
        },
        {
          "output_type": "display_data",
          "data": {
            "image/png": "[encoded data removed]",
            "text/plain": [
              "<Figure size 432x288 with 1 Axes>"
            ]
          },
          "metadata": {
            "tags": [],
            "needs_background": "light"
          }
        },
        {
          "output_type": "stream",
          "text": [
            "---------------------------------------------\n",
            "normalized-losses\n",
            "Skew =  0.8485348696008058\n"
          ],
          "name": "stdout"
        },
        {
          "output_type": "display_data",
          "data": {
            "image/png": "[encoded data removed]",
            "text/plain": [
              "<Figure size 432x288 with 1 Axes>"
            ]
          },
          "metadata": {
            "tags": [],
            "needs_background": "light"
          }
        },
        {
          "output_type": "stream",
          "text": [
            "---------------------------------------------\n",
            "width\n",
            "Skew =  0.8973753485201392\n"
          ],
          "name": "stdout"
        },
        {
          "output_type": "display_data",
          "data": {
            "image/png": "[encoded data removed]",
            "text/plain": [
              "<Figure size 432x288 with 1 Axes>"
            ]
          },
          "metadata": {
            "tags": [],
            "needs_background": "light"
          }
        },
        {
          "output_type": "stream",
          "text": [
            "---------------------------------------------\n",
            "height\n",
            "Skew =  0.06265991683394276\n"
          ],
          "name": "stdout"
        },
        {
          "output_type": "display_data",
          "data": {
            "image/png": "[encoded data removed]",
            "text/plain": [
              "<Figure size 432x288 with 1 Axes>"
            ]
          },
          "metadata": {
            "tags": [],
            "needs_background": "light"
          }
        },
        {
          "output_type": "stream",
          "text": [
            "---------------------------------------------\n",
            "engine-size\n",
            "Skew =  1.9333748457840114\n"
          ],
          "name": "stdout"
        },
        {
          "output_type": "display_data",
          "data": {
            "image/png": "[encoded data removed]",
            "text/plain": [
              "<Figure size 432x288 with 1 Axes>"
            ]
          },
          "metadata": {
            "tags": [],
            "needs_background": "light"
          }
        },
        {
          "output_type": "stream",
          "text": [
            "---------------------------------------------\n",
            "horsepower\n",
            "Skew =  1.3875147343096037\n"
          ],
          "name": "stdout"
        },
        {
          "output_type": "display_data",
          "data": {
            "image/png": "[encoded data removed]",
            "text/plain": [
              "<Figure size 432x288 with 1 Axes>"
            ]
          },
          "metadata": {
            "tags": [],
            "needs_background": "light"
          }
        },
        {
          "output_type": "stream",
          "text": [
            "---------------------------------------------\n",
            "city-mpg\n",
            "Skew =  0.6588377533622138\n"
          ],
          "name": "stdout"
        },
        {
          "output_type": "display_data",
          "data": {
            "image/png": "[encoded data removed]",
            "text/plain": [
              "<Figure size 432x288 with 1 Axes>"
            ]
          },
          "metadata": {
            "tags": [],
            "needs_background": "light"
          }
        },
        {
          "output_type": "stream",
          "text": [
            "---------------------------------------------\n",
            "highway-mpg\n",
            "Skew =  0.5360379305163596\n"
          ],
          "name": "stdout"
        },
        {
          "output_type": "display_data",
          "data": {
            "image/png": "[encoded data removed]",
            "text/plain": [
              "<Figure size 432x288 with 1 Axes>"
            ]
          },
          "metadata": {
            "tags": [],
            "needs_background": "light"
          }
        },
        {
          "output_type": "stream",
          "text": [
            "---------------------------------------------\n"
          ],
          "name": "stdout"
        }
      ]
    },
    {
      "cell_type": "code",
      "metadata": {
        "id": "LlILj9cJXO0A",
        "outputId": "b56e085f-05ac-42d9-9378-e0aa7640a99f"
      },
      "source": [
        "# normalized-losses, width, engine-size, horsepower, city-mpg\n",
        "\n",
        "sns.heatmap(df_num.corr(), annot=True)\n",
        "plt.show()"
      ],
      "execution_count": null,
      "outputs": [
        {
          "output_type": "display_data",
          "data": {
            "image/png": "[encoded data removed]",
            "text/plain": [
              "<Figure size 432x288 with 2 Axes>"
            ]
          },
          "metadata": {
            "tags": [],
            "needs_background": "light"
          }
        }
      ]
    },
    {
      "cell_type": "code",
      "metadata": {
        "id": "qRnpEctZXO0C",
        "outputId": "141defdd-04a3-4629-fca1-684298d266fa"
      },
      "source": [
        "# +ve skewness - sqrt, cbrt, log\n",
        "# -ve skewness - sq, cb, increase the power\n",
        "df['normalized-losses'].min()"
      ],
      "execution_count": null,
      "outputs": [
        {
          "output_type": "execute_result",
          "data": {
            "text/plain": [
              "65.0"
            ]
          },
          "metadata": {
            "tags": []
          },
          "execution_count": 46
        }
      ]
    },
    {
      "cell_type": "code",
      "metadata": {
        "id": "NBa3eZZsXO0D",
        "outputId": "aee81d72-077a-4c08-e254-de2ca886520d"
      },
      "source": [
        "np.sqrt(-10)"
      ],
      "execution_count": null,
      "outputs": [
        {
          "output_type": "execute_result",
          "data": {
            "text/plain": [
              "nan"
            ]
          },
          "metadata": {
            "tags": []
          },
          "execution_count": 47
        }
      ]
    },
    {
      "cell_type": "code",
      "metadata": {
        "id": "jDU-W1yeXO0F"
      },
      "source": [
        "df['normalized-losses'] = np.sqrt(df['normalized-losses'])"
      ],
      "execution_count": null,
      "outputs": []
    },
    {
      "cell_type": "code",
      "metadata": {
        "id": "DWvpPtx3XO0G",
        "outputId": "7a59fea1-6efa-43c5-8361-39973e7c8cad"
      },
      "source": [
        "print(\"Skew = \", skew(df['normalized-losses']))"
      ],
      "execution_count": null,
      "outputs": [
        {
          "output_type": "stream",
          "text": [
            "Skew =  0.423806868842261\n"
          ],
          "name": "stdout"
        }
      ]
    },
    {
      "cell_type": "code",
      "metadata": {
        "id": "kBa3036wXO0H"
      },
      "source": [
        "df_new = pd.concat([df_cat, df_num], axis=1)"
      ],
      "execution_count": null,
      "outputs": []
    },
    {
      "cell_type": "code",
      "metadata": {
        "id": "dMFziycSXO0J",
        "outputId": "b21ed3de-11fd-484d-ba19-7d86c35dba0a"
      },
      "source": [
        "df_new.head()"
      ],
      "execution_count": null,
      "outputs": [
        {
          "output_type": "execute_result",
          "data": {
            "text/html": [
              "<div>\n",
              "<style scoped>\n",
              "    .dataframe tbody tr th:only-of-type {\n",
              "        vertical-align: middle;\n",
              "    }\n",
              "\n",
              "    .dataframe tbody tr th {\n",
              "        vertical-align: top;\n",
              "    }\n",
              "\n",
              "    .dataframe thead th {\n",
              "        text-align: right;\n",
              "    }\n",
              "</style>\n",
              "<table border=\"1\" class=\"dataframe\">\n",
              "  <thead>\n",
              "    <tr style=\"text-align: right;\">\n",
              "      <th></th>\n",
              "      <th>make</th>\n",
              "      <th>fuel-type</th>\n",
              "      <th>body-style</th>\n",
              "      <th>drive-wheels</th>\n",
              "      <th>engine-location</th>\n",
              "      <th>engine-type</th>\n",
              "      <th>symboling</th>\n",
              "      <th>normalized-losses</th>\n",
              "      <th>width</th>\n",
              "      <th>height</th>\n",
              "      <th>engine-size</th>\n",
              "      <th>horsepower</th>\n",
              "      <th>city-mpg</th>\n",
              "      <th>highway-mpg</th>\n",
              "      <th>price</th>\n",
              "    </tr>\n",
              "  </thead>\n",
              "  <tbody>\n",
              "    <tr>\n",
              "      <th>0</th>\n",
              "      <td>0</td>\n",
              "      <td>1</td>\n",
              "      <td>0</td>\n",
              "      <td>2</td>\n",
              "      <td>0</td>\n",
              "      <td>0</td>\n",
              "      <td>3</td>\n",
              "      <td>122.0</td>\n",
              "      <td>64.1</td>\n",
              "      <td>48.8</td>\n",
              "      <td>130</td>\n",
              "      <td>111.0</td>\n",
              "      <td>21</td>\n",
              "      <td>27</td>\n",
              "      <td>13495</td>\n",
              "    </tr>\n",
              "    <tr>\n",
              "      <th>1</th>\n",
              "      <td>0</td>\n",
              "      <td>1</td>\n",
              "      <td>0</td>\n",
              "      <td>2</td>\n",
              "      <td>0</td>\n",
              "      <td>0</td>\n",
              "      <td>3</td>\n",
              "      <td>122.0</td>\n",
              "      <td>64.1</td>\n",
              "      <td>48.8</td>\n",
              "      <td>130</td>\n",
              "      <td>111.0</td>\n",
              "      <td>21</td>\n",
              "      <td>27</td>\n",
              "      <td>16500</td>\n",
              "    </tr>\n",
              "    <tr>\n",
              "      <th>2</th>\n",
              "      <td>0</td>\n",
              "      <td>1</td>\n",
              "      <td>2</td>\n",
              "      <td>2</td>\n",
              "      <td>0</td>\n",
              "      <td>5</td>\n",
              "      <td>1</td>\n",
              "      <td>122.0</td>\n",
              "      <td>65.5</td>\n",
              "      <td>52.4</td>\n",
              "      <td>152</td>\n",
              "      <td>154.0</td>\n",
              "      <td>19</td>\n",
              "      <td>26</td>\n",
              "      <td>16500</td>\n",
              "    </tr>\n",
              "    <tr>\n",
              "      <th>3</th>\n",
              "      <td>1</td>\n",
              "      <td>1</td>\n",
              "      <td>3</td>\n",
              "      <td>1</td>\n",
              "      <td>0</td>\n",
              "      <td>3</td>\n",
              "      <td>2</td>\n",
              "      <td>164.0</td>\n",
              "      <td>66.2</td>\n",
              "      <td>54.3</td>\n",
              "      <td>109</td>\n",
              "      <td>102.0</td>\n",
              "      <td>24</td>\n",
              "      <td>30</td>\n",
              "      <td>13950</td>\n",
              "    </tr>\n",
              "    <tr>\n",
              "      <th>4</th>\n",
              "      <td>1</td>\n",
              "      <td>1</td>\n",
              "      <td>3</td>\n",
              "      <td>0</td>\n",
              "      <td>0</td>\n",
              "      <td>3</td>\n",
              "      <td>2</td>\n",
              "      <td>164.0</td>\n",
              "      <td>66.4</td>\n",
              "      <td>54.3</td>\n",
              "      <td>136</td>\n",
              "      <td>115.0</td>\n",
              "      <td>18</td>\n",
              "      <td>22</td>\n",
              "      <td>17450</td>\n",
              "    </tr>\n",
              "  </tbody>\n",
              "</table>\n",
              "</div>"
            ],
            "text/plain": [
              "   make  fuel-type  body-style  drive-wheels  engine-location  engine-type  \\\n",
              "0     0          1           0             2                0            0   \n",
              "1     0          1           0             2                0            0   \n",
              "2     0          1           2             2                0            5   \n",
              "3     1          1           3             1                0            3   \n",
              "4     1          1           3             0                0            3   \n",
              "\n",
              "   symboling  normalized-losses  width  height  engine-size  horsepower  \\\n",
              "0          3              122.0   64.1    48.8          130       111.0   \n",
              "1          3              122.0   64.1    48.8          130       111.0   \n",
              "2          1              122.0   65.5    52.4          152       154.0   \n",
              "3          2              164.0   66.2    54.3          109       102.0   \n",
              "4          2              164.0   66.4    54.3          136       115.0   \n",
              "\n",
              "   city-mpg  highway-mpg  price  \n",
              "0        21           27  13495  \n",
              "1        21           27  16500  \n",
              "2        19           26  16500  \n",
              "3        24           30  13950  \n",
              "4        18           22  17450  "
            ]
          },
          "metadata": {
            "tags": []
          },
          "execution_count": 52
        }
      ]
    },
    {
      "cell_type": "code",
      "metadata": {
        "id": "72EpifovXO0L",
        "outputId": "a0b1767c-00c1-4f09-d054-ab106fa441fc"
      },
      "source": [
        "sns.boxplot(data=df_new, x=\"price\")\n",
        "plt.show()"
      ],
      "execution_count": null,
      "outputs": [
        {
          "output_type": "display_data",
          "data": {
            "image/png": "[encoded data removed]",
            "text/plain": [
              "<Figure size 432x288 with 1 Axes>"
            ]
          },
          "metadata": {
            "tags": [],
            "needs_background": "light"
          }
        }
      ]
    },
    {
      "cell_type": "code",
      "metadata": {
        "id": "ZhLCz6_qXO0M",
        "outputId": "361d30d4-c3cf-4012-bf4b-434b541c3f43"
      },
      "source": [
        "plt.figure(figsize=(16, 10))\n",
        "sns.boxplot(data=df_new, x=\"make\", y=\"price\")\n",
        "plt.show()"
      ],
      "execution_count": null,
      "outputs": [
        {
          "output_type": "display_data",
          "data": {
            "image/png": "[encoded data removed]",
            "text/plain": [
              "<Figure size 1152x720 with 1 Axes>"
            ]
          },
          "metadata": {
            "tags": [],
            "needs_background": "light"
          }
        }
      ]
    },
    {
      "cell_type": "code",
      "metadata": {
        "id": "FJ5R0nh2XO0O",
        "outputId": "e4f2a223-ba34-46f7-dd97-5c7e0b25c9bb"
      },
      "source": [
        "sns.boxplot(data=df_new, x=\"body-style\", y=\"price\")\n",
        "plt.show()"
      ],
      "execution_count": null,
      "outputs": [
        {
          "output_type": "display_data",
          "data": {
            "image/png": "[encoded data removed]",
            "text/plain": [
              "<Figure size 432x288 with 1 Axes>"
            ]
          },
          "metadata": {
            "tags": [],
            "needs_background": "light"
          }
        }
      ]
    },
    {
      "cell_type": "code",
      "metadata": {
        "id": "dGjlb6-XXO0Q",
        "outputId": "c956515e-7157-46ee-f6b8-1ece61939a26"
      },
      "source": [
        "df_new[(df_new['make']==4) & (df_new['price']>10000)]"
      ],
      "execution_count": null,
      "outputs": [
        {
          "output_type": "execute_result",
          "data": {
            "text/html": [
              "<div>\n",
              "<style scoped>\n",
              "    .dataframe tbody tr th:only-of-type {\n",
              "        vertical-align: middle;\n",
              "    }\n",
              "\n",
              "    .dataframe tbody tr th {\n",
              "        vertical-align: top;\n",
              "    }\n",
              "\n",
              "    .dataframe thead th {\n",
              "        text-align: right;\n",
              "    }\n",
              "</style>\n",
              "<table border=\"1\" class=\"dataframe\">\n",
              "  <thead>\n",
              "    <tr style=\"text-align: right;\">\n",
              "      <th></th>\n",
              "      <th>make</th>\n",
              "      <th>fuel-type</th>\n",
              "      <th>body-style</th>\n",
              "      <th>drive-wheels</th>\n",
              "      <th>engine-location</th>\n",
              "      <th>engine-type</th>\n",
              "      <th>symboling</th>\n",
              "      <th>normalized-losses</th>\n",
              "      <th>width</th>\n",
              "      <th>height</th>\n",
              "      <th>engine-size</th>\n",
              "      <th>horsepower</th>\n",
              "      <th>city-mpg</th>\n",
              "      <th>highway-mpg</th>\n",
              "      <th>price</th>\n",
              "    </tr>\n",
              "  </thead>\n",
              "  <tbody>\n",
              "    <tr>\n",
              "      <th>29</th>\n",
              "      <td>4</td>\n",
              "      <td>1</td>\n",
              "      <td>2</td>\n",
              "      <td>1</td>\n",
              "      <td>0</td>\n",
              "      <td>3</td>\n",
              "      <td>3</td>\n",
              "      <td>145.0</td>\n",
              "      <td>66.3</td>\n",
              "      <td>50.2</td>\n",
              "      <td>156</td>\n",
              "      <td>145.0</td>\n",
              "      <td>19</td>\n",
              "      <td>24</td>\n",
              "      <td>12964</td>\n",
              "    </tr>\n",
              "  </tbody>\n",
              "</table>\n",
              "</div>"
            ],
            "text/plain": [
              "    make  fuel-type  body-style  drive-wheels  engine-location  engine-type  \\\n",
              "29     4          1           2             1                0            3   \n",
              "\n",
              "    symboling  normalized-losses  width  height  engine-size  horsepower  \\\n",
              "29          3              145.0   66.3    50.2          156       145.0   \n",
              "\n",
              "    city-mpg  highway-mpg  price  \n",
              "29        19           24  12964  "
            ]
          },
          "metadata": {
            "tags": []
          },
          "execution_count": 59
        }
      ]
    },
    {
      "cell_type": "code",
      "metadata": {
        "id": "sCEFsaBTXO0R"
      },
      "source": [
        "df_new.drop(29, inplace=True)"
      ],
      "execution_count": null,
      "outputs": []
    },
    {
      "cell_type": "code",
      "metadata": {
        "id": "nlzRURzNXO0S",
        "outputId": "09ec6a55-6723-4645-deab-d31ae06a9f9d"
      },
      "source": [
        "df_new[(df_new['make']==4) & (df_new['price']>10000)]"
      ],
      "execution_count": null,
      "outputs": [
        {
          "output_type": "execute_result",
          "data": {
            "text/html": [
              "<div>\n",
              "<style scoped>\n",
              "    .dataframe tbody tr th:only-of-type {\n",
              "        vertical-align: middle;\n",
              "    }\n",
              "\n",
              "    .dataframe tbody tr th {\n",
              "        vertical-align: top;\n",
              "    }\n",
              "\n",
              "    .dataframe thead th {\n",
              "        text-align: right;\n",
              "    }\n",
              "</style>\n",
              "<table border=\"1\" class=\"dataframe\">\n",
              "  <thead>\n",
              "    <tr style=\"text-align: right;\">\n",
              "      <th></th>\n",
              "      <th>make</th>\n",
              "      <th>fuel-type</th>\n",
              "      <th>body-style</th>\n",
              "      <th>drive-wheels</th>\n",
              "      <th>engine-location</th>\n",
              "      <th>engine-type</th>\n",
              "      <th>symboling</th>\n",
              "      <th>normalized-losses</th>\n",
              "      <th>width</th>\n",
              "      <th>height</th>\n",
              "      <th>engine-size</th>\n",
              "      <th>horsepower</th>\n",
              "      <th>city-mpg</th>\n",
              "      <th>highway-mpg</th>\n",
              "      <th>price</th>\n",
              "    </tr>\n",
              "  </thead>\n",
              "  <tbody>\n",
              "  </tbody>\n",
              "</table>\n",
              "</div>"
            ],
            "text/plain": [
              "Empty DataFrame\n",
              "Columns: [make, fuel-type, body-style, drive-wheels, engine-location, engine-type, symboling, normalized-losses, width, height, engine-size, horsepower, city-mpg, highway-mpg, price]\n",
              "Index: []"
            ]
          },
          "metadata": {
            "tags": []
          },
          "execution_count": 61
        }
      ]
    },
    {
      "cell_type": "code",
      "metadata": {
        "id": "8xJ0yFVdXO0T"
      },
      "source": [
        "# Remove all the outliers as shown\n",
        "# Create your model.\n",
        "# Does it satisfy all the assumptions"
      ],
      "execution_count": null,
      "outputs": []
    }
  ]
}